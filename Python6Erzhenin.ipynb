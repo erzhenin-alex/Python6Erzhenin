{
  "cells": [
    {
      "cell_type": "markdown",
      "metadata": {
        "id": "EVbqAmZF1ckK"
      },
      "source": [
        "# Самостоятельная работа (Файлы. Исключения)"
      ]
    },
    {
      "cell_type": "markdown",
      "metadata": {
        "id": "iQhhkJb8yk0e"
      },
      "source": [
        "## Задача 1"
      ]
    },
    {
      "cell_type": "markdown",
      "metadata": {
        "id": "4CntGw70y0cl"
      },
      "source": [
        "Напишите функцию, которая параметром будет принимать путь к папке, а возвращать размер этой папки."
      ]
    },
    {
      "cell_type": "code",
      "execution_count": 3,
      "metadata": {
        "id": "xDr0YsR_0kNP"
      },
      "outputs": [
        {
          "name": "stdout",
          "output_type": "stream",
          "text": [
            "Размер папки в байтах: 37774\n"
          ]
        }
      ],
      "source": [
        "# ваш код в этой ячейке\n",
        "import os\n",
        "\n",
        "def get_folder_size(folder_path):\n",
        "    total_size = 0\n",
        "    for root, dirs, files in os.walk(folder_path):\n",
        "        for file in files:\n",
        "            file_path = os.path.join(root, file)\n",
        "            total_size += os.path.getsize(file_path)\n",
        "    return total_size\n",
        "\n",
        "folder_path = \"C:/Users/Sasha/OneDrive/Учеба Финка/Алгоритмы и структуры данных в языке Python\"\n",
        "size = get_folder_size(folder_path)\n",
        "print(\"Размер папки в байтах:\", size)"
      ]
    },
    {
      "cell_type": "markdown",
      "metadata": {
        "id": "o9mJvlCwDu95"
      },
      "source": [
        "## Задача 2"
      ]
    },
    {
      "cell_type": "markdown",
      "metadata": {
        "id": "o6pubICoDu97"
      },
      "source": [
        "Дан текстовый файл. В нем написан текст, разбитый на предложения. Перемешайте слова в каждом предложении текста и запишите полученный текст в новый файл."
      ]
    },
    {
      "cell_type": "code",
      "execution_count": 7,
      "metadata": {
        "id": "sTia6dWRDu98"
      },
      "outputs": [],
      "source": [
        "# ваш код в этой ячейке\n",
        "import random\n",
        "\n",
        "def shuffle_sentence(sentence):\n",
        "    words = sentence.split()\n",
        "    random.shuffle(words)\n",
        "    shuffled_sentence = ' '.join(words)\n",
        "    return shuffled_sentence\n",
        "\n",
        "folder_path = \"C:\\\\Users\\\\Sasha\\\\OneDrive\\\\Учеба Финка\\\\Алгоритмы и структуры данных в языке Python\\\\Python6\"\n",
        "\n",
        "input_file = os.path.join(folder_path, \"input.txt\")\n",
        "output_file = os.path.join(folder_path, \"output.txt\")\n",
        "\n",
        "with open(input_file, 'r', encoding='utf-8') as f:\n",
        "    text = f.read()\n",
        "\n",
        "sentences = text.split('.')\n",
        "shuffled_text = '.'.join([shuffle_sentence(sentence) for sentence in sentences])\n",
        "\n",
        "with open(output_file, 'w', encoding='utf-8') as f:\n",
        "    f.write(shuffled_text)\n"
      ]
    },
    {
      "cell_type": "markdown",
      "metadata": {
        "id": "C9WsT9NCD70u"
      },
      "source": [
        "## Задача 3"
      ]
    },
    {
      "cell_type": "markdown",
      "metadata": {
        "id": "FyOsLkCPD71R"
      },
      "source": [
        "В файле расположен русский текст. Откройте этот файл, преобразуйте текст в транслит и запишите в новый файл."
      ]
    },
    {
      "cell_type": "code",
      "execution_count": 9,
      "metadata": {
        "id": "d5qjX7quD71S"
      },
      "outputs": [],
      "source": [
        "# ваш код в этой ячейке\n",
        "from transliterate import translit\n",
        "import os\n",
        "\n",
        "folder_path = \"C:/Users/Sasha/OneDrive/Учеба Финка/Алгоритмы и структуры данных в языке Python/Python6\"\n",
        "\n",
        "input_file = os.path.join(folder_path, \"input.txt\")\n",
        "output_file = os.path.join(folder_path, \"output_translit.txt\")\n",
        "\n",
        "with open(input_file, 'r', encoding='utf-8') as f:\n",
        "    text = f.read()\n",
        "\n",
        "transliterated_text = translit(text, 'ru', reversed=True)  # Преобразование в транслит\n",
        "\n",
        "with open(output_file, 'w', encoding='utf-8') as f:\n",
        "    f.write(transliterated_text)\n"
      ]
    },
    {
      "cell_type": "markdown",
      "metadata": {
        "id": "jLz9Lw-7ERLJ"
      },
      "source": [
        "## Задача 4"
      ]
    },
    {
      "cell_type": "markdown",
      "metadata": {
        "id": "eo56U11xERLL"
      },
      "source": [
        "Дан текстовый файл. Получите количество букв в нем (пробелы, знаки препинания и специальные символы не учитываются)."
      ]
    },
    {
      "cell_type": "code",
      "execution_count": 10,
      "metadata": {
        "id": "eyMVLE5rERLL"
      },
      "outputs": [
        {
          "name": "stdout",
          "output_type": "stream",
          "text": [
            "Количество букв в файле: 127\n"
          ]
        }
      ],
      "source": [
        "# ваш код в этой ячейке\n",
        "import os\n",
        "\n",
        "folder_path = \"C:/Users/Sasha/OneDrive/Учеба Финка/Алгоритмы и структуры данных в языке Python/Python6\"\n",
        "file_name = \"input.txt\"\n",
        "\n",
        "file_path = os.path.join(folder_path, file_name)\n",
        "\n",
        "with open(file_path, 'r', encoding='utf-8') as f:\n",
        "    text = f.read()\n",
        "\n",
        "# Удаление всех символов, не являющихся буквами\n",
        "cleaned_text = ''.join(filter(str.isalpha, text))\n",
        "\n",
        "# Подсчет количества букв\n",
        "letter_count = len(cleaned_text)\n",
        "\n",
        "print(\"Количество букв в файле:\", letter_count)\n"
      ]
    },
    {
      "cell_type": "markdown",
      "metadata": {
        "id": "m4628ffNE0ha"
      },
      "source": [
        "## Задача 5"
      ]
    },
    {
      "cell_type": "markdown",
      "metadata": {
        "id": "372hLl8-E0hb"
      },
      "source": [
        "Дан текстовый файл. Получите количество букв в нем (пробелы, знаки препинания и специальные символы не учитываются)."
      ]
    },
    {
      "cell_type": "code",
      "execution_count": 11,
      "metadata": {
        "id": "cQOLrXzAE0hc"
      },
      "outputs": [
        {
          "name": "stdout",
          "output_type": "stream",
          "text": [
            "Количество букв в файле: 127\n"
          ]
        }
      ],
      "source": [
        "# ваш код в этой ячейке\n",
        "import os\n",
        "\n",
        "folder_path = \"C:/Users/Sasha/OneDrive/Учеба Финка/Алгоритмы и структуры данных в языке Python/Python6\"\n",
        "file_name = \"input.txt\"\n",
        "\n",
        "file_path = os.path.join(folder_path, file_name)\n",
        "\n",
        "with open(file_path, 'r', encoding='utf-8') as f:\n",
        "    text = f.read()\n",
        "\n",
        "# Удаление всех символов, не являющихся буквами\n",
        "cleaned_text = ''.join(filter(str.isalpha, text))\n",
        "\n",
        "# Подсчет количества букв\n",
        "letter_count = len(cleaned_text)\n",
        "\n",
        "print(\"Количество букв в файле:\", letter_count)"
      ]
    },
    {
      "cell_type": "markdown",
      "metadata": {
        "id": "J7eqhUv5JLfO"
      },
      "source": [
        "## Задача 6"
      ]
    },
    {
      "cell_type": "markdown",
      "metadata": {
        "id": "hDfw4rf3JLf1"
      },
      "source": [
        "Напишите программу, которая запрашивает у пользователя два значения. Если хотя бы одно из них не является числом, то программа будет соединять их в одну строку. В остальных случаях, если оба значения являются числами, программа будет суммировать их.\n",
        "\n",
        "Примеры выполнения программы:\n",
        "```\n",
        "Первое значение: 10\n",
        "Второе значение: 50\n",
        "Результат: 60\n",
        "```\n",
        "\n",
        "```\n",
        "Первое значение: hello\n",
        "Второе значение: world\n",
        "Результат: helloworld\n",
        "```\n",
        "\n",
        "\n",
        "\n",
        "\n"
      ]
    },
    {
      "cell_type": "code",
      "execution_count": 13,
      "metadata": {
        "id": "Y7Fhz2upJLf2"
      },
      "outputs": [
        {
          "name": "stdout",
          "output_type": "stream",
          "text": [
            "Результат: 1bv\n"
          ]
        }
      ],
      "source": [
        "# ваш код в этой ячейке\n",
        "def sum_or_concatenate(value1, value2):\n",
        "    if value1.isdigit() and value2.isdigit():\n",
        "        return int(value1) + int(value2)\n",
        "    else:\n",
        "        return value1 + value2\n",
        "\n",
        "first_value = input(\"Первое значение: \")\n",
        "second_value = input(\"Второе значение: \")\n",
        "\n",
        "result = sum_or_concatenate(first_value, second_value)\n",
        "print(\"Результат:\", result)\n"
      ]
    }
  ],
  "metadata": {
    "colab": {
      "provenance": []
    },
    "kernelspec": {
      "display_name": "Python 3",
      "name": "python3"
    },
    "language_info": {
      "codemirror_mode": {
        "name": "ipython",
        "version": 3
      },
      "file_extension": ".py",
      "mimetype": "text/x-python",
      "name": "python",
      "nbconvert_exporter": "python",
      "pygments_lexer": "ipython3",
      "version": "3.12.0"
    }
  },
  "nbformat": 4,
  "nbformat_minor": 0
}
